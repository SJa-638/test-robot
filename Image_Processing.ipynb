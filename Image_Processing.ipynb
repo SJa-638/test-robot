{
  "cells": [
    {
      "cell_type": "markdown",
      "metadata": {
        "id": "view-in-github",
        "colab_type": "text"
      },
      "source": [
        "<a href=\"https://colab.research.google.com/github/SJa-638/test-robot/blob/main/Image_Processing.ipynb\" target=\"_parent\"><img src=\"https://colab.research.google.com/assets/colab-badge.svg\" alt=\"Open In Colab\"/></a>"
      ]
    },
    {
      "cell_type": "markdown",
      "metadata": {
        "id": "xY8Nnge1sbEk"
      },
      "source": [
        "## **To Download the needed Libaries Exceute the following Commands**"
      ]
    },
    {
      "cell_type": "code",
      "execution_count": null,
      "metadata": {
        "id": "Uv0HOezq6YHG"
      },
      "outputs": [],
      "source": [
        "!pip install -q keras"
      ]
    },
    {
      "cell_type": "code",
      "execution_count": null,
      "metadata": {
        "colab": {
          "base_uri": "https://localhost:8080/"
        },
        "id": "Y6SHfMrTEEXm",
        "outputId": "66e9d9fb-301b-4ad9-d821-e3649a32dd1c"
      },
      "outputs": [
        {
          "name": "stdout",
          "output_type": "stream",
          "text": [
            "Requirement already satisfied: kaggle in /usr/local/lib/python3.10/dist-packages (1.5.16)\n",
            "Requirement already satisfied: six>=1.10 in /usr/local/lib/python3.10/dist-packages (from kaggle) (1.16.0)\n",
            "Requirement already satisfied: certifi in /usr/local/lib/python3.10/dist-packages (from kaggle) (2023.7.22)\n",
            "Requirement already satisfied: python-dateutil in /usr/local/lib/python3.10/dist-packages (from kaggle) (2.8.2)\n",
            "Requirement already satisfied: requests in /usr/local/lib/python3.10/dist-packages (from kaggle) (2.31.0)\n",
            "Requirement already satisfied: tqdm in /usr/local/lib/python3.10/dist-packages (from kaggle) (4.66.1)\n",
            "Requirement already satisfied: python-slugify in /usr/local/lib/python3.10/dist-packages (from kaggle) (8.0.1)\n",
            "Requirement already satisfied: urllib3 in /usr/local/lib/python3.10/dist-packages (from kaggle) (2.0.7)\n",
            "Requirement already satisfied: bleach in /usr/local/lib/python3.10/dist-packages (from kaggle) (6.1.0)\n",
            "Requirement already satisfied: webencodings in /usr/local/lib/python3.10/dist-packages (from bleach->kaggle) (0.5.1)\n",
            "Requirement already satisfied: text-unidecode>=1.3 in /usr/local/lib/python3.10/dist-packages (from python-slugify->kaggle) (1.3)\n",
            "Requirement already satisfied: charset-normalizer<4,>=2 in /usr/local/lib/python3.10/dist-packages (from requests->kaggle) (3.3.1)\n",
            "Requirement already satisfied: idna<4,>=2.5 in /usr/local/lib/python3.10/dist-packages (from requests->kaggle) (3.4)\n"
          ]
        }
      ],
      "source": [
        "!pip install kaggle"
      ]
    },
    {
      "cell_type": "code",
      "execution_count": null,
      "metadata": {
        "colab": {
          "base_uri": "https://localhost:8080/"
        },
        "id": "whRDWUoYmvAh",
        "outputId": "01a9f6db-0ba5-474b-80ff-7b391e38d4c2"
      },
      "outputs": [
        {
          "name": "stdout",
          "output_type": "stream",
          "text": [
            "Requirement already satisfied: opencv-python in /usr/local/lib/python3.10/dist-packages (4.8.0.76)\n",
            "Requirement already satisfied: numpy>=1.21.2 in /usr/local/lib/python3.10/dist-packages (from opencv-python) (1.23.5)\n"
          ]
        }
      ],
      "source": [
        "!pip install opencv-python"
      ]
    },
    {
      "cell_type": "code",
      "execution_count": null,
      "metadata": {
        "colab": {
          "base_uri": "https://localhost:8080/"
        },
        "id": "guA7SxuFskhH",
        "outputId": "1baaefe4-3153-4c2f-e28d-c59aa6cf05ba"
      },
      "outputs": [
        {
          "name": "stdout",
          "output_type": "stream",
          "text": [
            "Reading package lists... Done\n",
            "Building dependency tree... Done\n",
            "Reading state information... Done\n",
            "git is already the newest version (1:2.34.1-1ubuntu1.10).\n",
            "0 upgraded, 0 newly installed, 0 to remove and 19 not upgraded.\n"
          ]
        }
      ],
      "source": [
        "!apt install git"
      ]
    },
    {
      "cell_type": "code",
      "execution_count": null,
      "metadata": {
        "colab": {
          "base_uri": "https://localhost:8080/"
        },
        "id": "T0UUsu-ZuJBP",
        "outputId": "f6cf620d-b7f7-42c7-b3f5-1fea8973577a"
      },
      "outputs": [
        {
          "name": "stdout",
          "output_type": "stream",
          "text": [
            "Requirement already satisfied: tensorflow in /usr/local/lib/python3.10/dist-packages (2.14.0)\n",
            "Requirement already satisfied: absl-py>=1.0.0 in /usr/local/lib/python3.10/dist-packages (from tensorflow) (1.4.0)\n",
            "Requirement already satisfied: astunparse>=1.6.0 in /usr/local/lib/python3.10/dist-packages (from tensorflow) (1.6.3)\n",
            "Requirement already satisfied: flatbuffers>=23.5.26 in /usr/local/lib/python3.10/dist-packages (from tensorflow) (23.5.26)\n",
            "Requirement already satisfied: gast!=0.5.0,!=0.5.1,!=0.5.2,>=0.2.1 in /usr/local/lib/python3.10/dist-packages (from tensorflow) (0.5.4)\n",
            "Requirement already satisfied: google-pasta>=0.1.1 in /usr/local/lib/python3.10/dist-packages (from tensorflow) (0.2.0)\n",
            "Requirement already satisfied: h5py>=2.9.0 in /usr/local/lib/python3.10/dist-packages (from tensorflow) (3.9.0)\n",
            "Requirement already satisfied: libclang>=13.0.0 in /usr/local/lib/python3.10/dist-packages (from tensorflow) (16.0.6)\n",
            "Requirement already satisfied: ml-dtypes==0.2.0 in /usr/local/lib/python3.10/dist-packages (from tensorflow) (0.2.0)\n",
            "Requirement already satisfied: numpy>=1.23.5 in /usr/local/lib/python3.10/dist-packages (from tensorflow) (1.23.5)\n",
            "Requirement already satisfied: opt-einsum>=2.3.2 in /usr/local/lib/python3.10/dist-packages (from tensorflow) (3.3.0)\n",
            "Requirement already satisfied: packaging in /usr/local/lib/python3.10/dist-packages (from tensorflow) (23.2)\n",
            "Requirement already satisfied: protobuf!=4.21.0,!=4.21.1,!=4.21.2,!=4.21.3,!=4.21.4,!=4.21.5,<5.0.0dev,>=3.20.3 in /usr/local/lib/python3.10/dist-packages (from tensorflow) (3.20.3)\n",
            "Requirement already satisfied: setuptools in /usr/local/lib/python3.10/dist-packages (from tensorflow) (67.7.2)\n",
            "Requirement already satisfied: six>=1.12.0 in /usr/local/lib/python3.10/dist-packages (from tensorflow) (1.16.0)\n",
            "Requirement already satisfied: termcolor>=1.1.0 in /usr/local/lib/python3.10/dist-packages (from tensorflow) (2.3.0)\n",
            "Requirement already satisfied: typing-extensions>=3.6.6 in /usr/local/lib/python3.10/dist-packages (from tensorflow) (4.5.0)\n",
            "Requirement already satisfied: wrapt<1.15,>=1.11.0 in /usr/local/lib/python3.10/dist-packages (from tensorflow) (1.14.1)\n",
            "Requirement already satisfied: tensorflow-io-gcs-filesystem>=0.23.1 in /usr/local/lib/python3.10/dist-packages (from tensorflow) (0.34.0)\n",
            "Requirement already satisfied: grpcio<2.0,>=1.24.3 in /usr/local/lib/python3.10/dist-packages (from tensorflow) (1.59.0)\n",
            "Requirement already satisfied: tensorboard<2.15,>=2.14 in /usr/local/lib/python3.10/dist-packages (from tensorflow) (2.14.1)\n",
            "Requirement already satisfied: tensorflow-estimator<2.15,>=2.14.0 in /usr/local/lib/python3.10/dist-packages (from tensorflow) (2.14.0)\n",
            "Requirement already satisfied: keras<2.15,>=2.14.0 in /usr/local/lib/python3.10/dist-packages (from tensorflow) (2.14.0)\n",
            "Requirement already satisfied: wheel<1.0,>=0.23.0 in /usr/local/lib/python3.10/dist-packages (from astunparse>=1.6.0->tensorflow) (0.41.2)\n",
            "Requirement already satisfied: google-auth<3,>=1.6.3 in /usr/local/lib/python3.10/dist-packages (from tensorboard<2.15,>=2.14->tensorflow) (2.17.3)\n",
            "Requirement already satisfied: google-auth-oauthlib<1.1,>=0.5 in /usr/local/lib/python3.10/dist-packages (from tensorboard<2.15,>=2.14->tensorflow) (1.0.0)\n",
            "Requirement already satisfied: markdown>=2.6.8 in /usr/local/lib/python3.10/dist-packages (from tensorboard<2.15,>=2.14->tensorflow) (3.5)\n",
            "Requirement already satisfied: requests<3,>=2.21.0 in /usr/local/lib/python3.10/dist-packages (from tensorboard<2.15,>=2.14->tensorflow) (2.31.0)\n",
            "Requirement already satisfied: tensorboard-data-server<0.8.0,>=0.7.0 in /usr/local/lib/python3.10/dist-packages (from tensorboard<2.15,>=2.14->tensorflow) (0.7.2)\n",
            "Requirement already satisfied: werkzeug>=1.0.1 in /usr/local/lib/python3.10/dist-packages (from tensorboard<2.15,>=2.14->tensorflow) (3.0.1)\n",
            "Requirement already satisfied: cachetools<6.0,>=2.0.0 in /usr/local/lib/python3.10/dist-packages (from google-auth<3,>=1.6.3->tensorboard<2.15,>=2.14->tensorflow) (5.3.2)\n",
            "Requirement already satisfied: pyasn1-modules>=0.2.1 in /usr/local/lib/python3.10/dist-packages (from google-auth<3,>=1.6.3->tensorboard<2.15,>=2.14->tensorflow) (0.3.0)\n",
            "Requirement already satisfied: rsa<5,>=3.1.4 in /usr/local/lib/python3.10/dist-packages (from google-auth<3,>=1.6.3->tensorboard<2.15,>=2.14->tensorflow) (4.9)\n",
            "Requirement already satisfied: requests-oauthlib>=0.7.0 in /usr/local/lib/python3.10/dist-packages (from google-auth-oauthlib<1.1,>=0.5->tensorboard<2.15,>=2.14->tensorflow) (1.3.1)\n",
            "Requirement already satisfied: charset-normalizer<4,>=2 in /usr/local/lib/python3.10/dist-packages (from requests<3,>=2.21.0->tensorboard<2.15,>=2.14->tensorflow) (3.3.1)\n",
            "Requirement already satisfied: idna<4,>=2.5 in /usr/local/lib/python3.10/dist-packages (from requests<3,>=2.21.0->tensorboard<2.15,>=2.14->tensorflow) (3.4)\n",
            "Requirement already satisfied: urllib3<3,>=1.21.1 in /usr/local/lib/python3.10/dist-packages (from requests<3,>=2.21.0->tensorboard<2.15,>=2.14->tensorflow) (2.0.7)\n",
            "Requirement already satisfied: certifi>=2017.4.17 in /usr/local/lib/python3.10/dist-packages (from requests<3,>=2.21.0->tensorboard<2.15,>=2.14->tensorflow) (2023.7.22)\n",
            "Requirement already satisfied: MarkupSafe>=2.1.1 in /usr/local/lib/python3.10/dist-packages (from werkzeug>=1.0.1->tensorboard<2.15,>=2.14->tensorflow) (2.1.3)\n",
            "Requirement already satisfied: pyasn1<0.6.0,>=0.4.6 in /usr/local/lib/python3.10/dist-packages (from pyasn1-modules>=0.2.1->google-auth<3,>=1.6.3->tensorboard<2.15,>=2.14->tensorflow) (0.5.0)\n",
            "Requirement already satisfied: oauthlib>=3.0.0 in /usr/local/lib/python3.10/dist-packages (from requests-oauthlib>=0.7.0->google-auth-oauthlib<1.1,>=0.5->tensorboard<2.15,>=2.14->tensorflow) (3.2.2)\n"
          ]
        }
      ],
      "source": [
        "!pip install tensorflow"
      ]
    },
    {
      "cell_type": "code",
      "execution_count": null,
      "metadata": {
        "colab": {
          "base_uri": "https://localhost:8080/"
        },
        "id": "npDPTQS-UvW-",
        "outputId": "d8d7fa01-1a0d-43d3-bbac-a1da0ee1f870"
      },
      "outputs": [
        {
          "name": "stdout",
          "output_type": "stream",
          "text": [
            "Requirement already satisfied: tensorflow in /usr/local/lib/python3.10/dist-packages (2.14.0)\n",
            "Requirement already satisfied: absl-py>=1.0.0 in /usr/local/lib/python3.10/dist-packages (from tensorflow) (1.4.0)\n",
            "Requirement already satisfied: astunparse>=1.6.0 in /usr/local/lib/python3.10/dist-packages (from tensorflow) (1.6.3)\n",
            "Requirement already satisfied: flatbuffers>=23.5.26 in /usr/local/lib/python3.10/dist-packages (from tensorflow) (23.5.26)\n",
            "Requirement already satisfied: gast!=0.5.0,!=0.5.1,!=0.5.2,>=0.2.1 in /usr/local/lib/python3.10/dist-packages (from tensorflow) (0.5.4)\n",
            "Requirement already satisfied: google-pasta>=0.1.1 in /usr/local/lib/python3.10/dist-packages (from tensorflow) (0.2.0)\n",
            "Requirement already satisfied: h5py>=2.9.0 in /usr/local/lib/python3.10/dist-packages (from tensorflow) (3.9.0)\n",
            "Requirement already satisfied: libclang>=13.0.0 in /usr/local/lib/python3.10/dist-packages (from tensorflow) (16.0.6)\n",
            "Requirement already satisfied: ml-dtypes==0.2.0 in /usr/local/lib/python3.10/dist-packages (from tensorflow) (0.2.0)\n",
            "Requirement already satisfied: numpy>=1.23.5 in /usr/local/lib/python3.10/dist-packages (from tensorflow) (1.23.5)\n",
            "Requirement already satisfied: opt-einsum>=2.3.2 in /usr/local/lib/python3.10/dist-packages (from tensorflow) (3.3.0)\n",
            "Requirement already satisfied: packaging in /usr/local/lib/python3.10/dist-packages (from tensorflow) (23.2)\n",
            "Requirement already satisfied: protobuf!=4.21.0,!=4.21.1,!=4.21.2,!=4.21.3,!=4.21.4,!=4.21.5,<5.0.0dev,>=3.20.3 in /usr/local/lib/python3.10/dist-packages (from tensorflow) (3.20.3)\n",
            "Requirement already satisfied: setuptools in /usr/local/lib/python3.10/dist-packages (from tensorflow) (67.7.2)\n",
            "Requirement already satisfied: six>=1.12.0 in /usr/local/lib/python3.10/dist-packages (from tensorflow) (1.16.0)\n",
            "Requirement already satisfied: termcolor>=1.1.0 in /usr/local/lib/python3.10/dist-packages (from tensorflow) (2.3.0)\n",
            "Requirement already satisfied: typing-extensions>=3.6.6 in /usr/local/lib/python3.10/dist-packages (from tensorflow) (4.5.0)\n",
            "Requirement already satisfied: wrapt<1.15,>=1.11.0 in /usr/local/lib/python3.10/dist-packages (from tensorflow) (1.14.1)\n",
            "Requirement already satisfied: tensorflow-io-gcs-filesystem>=0.23.1 in /usr/local/lib/python3.10/dist-packages (from tensorflow) (0.34.0)\n",
            "Requirement already satisfied: grpcio<2.0,>=1.24.3 in /usr/local/lib/python3.10/dist-packages (from tensorflow) (1.59.0)\n",
            "Requirement already satisfied: tensorboard<2.15,>=2.14 in /usr/local/lib/python3.10/dist-packages (from tensorflow) (2.14.1)\n",
            "Requirement already satisfied: tensorflow-estimator<2.15,>=2.14.0 in /usr/local/lib/python3.10/dist-packages (from tensorflow) (2.14.0)\n",
            "Requirement already satisfied: keras<2.15,>=2.14.0 in /usr/local/lib/python3.10/dist-packages (from tensorflow) (2.14.0)\n",
            "Requirement already satisfied: wheel<1.0,>=0.23.0 in /usr/local/lib/python3.10/dist-packages (from astunparse>=1.6.0->tensorflow) (0.41.2)\n",
            "Requirement already satisfied: google-auth<3,>=1.6.3 in /usr/local/lib/python3.10/dist-packages (from tensorboard<2.15,>=2.14->tensorflow) (2.17.3)\n",
            "Requirement already satisfied: google-auth-oauthlib<1.1,>=0.5 in /usr/local/lib/python3.10/dist-packages (from tensorboard<2.15,>=2.14->tensorflow) (1.0.0)\n",
            "Requirement already satisfied: markdown>=2.6.8 in /usr/local/lib/python3.10/dist-packages (from tensorboard<2.15,>=2.14->tensorflow) (3.5)\n",
            "Requirement already satisfied: requests<3,>=2.21.0 in /usr/local/lib/python3.10/dist-packages (from tensorboard<2.15,>=2.14->tensorflow) (2.31.0)\n",
            "Requirement already satisfied: tensorboard-data-server<0.8.0,>=0.7.0 in /usr/local/lib/python3.10/dist-packages (from tensorboard<2.15,>=2.14->tensorflow) (0.7.2)\n",
            "Requirement already satisfied: werkzeug>=1.0.1 in /usr/local/lib/python3.10/dist-packages (from tensorboard<2.15,>=2.14->tensorflow) (3.0.1)\n",
            "Requirement already satisfied: cachetools<6.0,>=2.0.0 in /usr/local/lib/python3.10/dist-packages (from google-auth<3,>=1.6.3->tensorboard<2.15,>=2.14->tensorflow) (5.3.2)\n",
            "Requirement already satisfied: pyasn1-modules>=0.2.1 in /usr/local/lib/python3.10/dist-packages (from google-auth<3,>=1.6.3->tensorboard<2.15,>=2.14->tensorflow) (0.3.0)\n",
            "Requirement already satisfied: rsa<5,>=3.1.4 in /usr/local/lib/python3.10/dist-packages (from google-auth<3,>=1.6.3->tensorboard<2.15,>=2.14->tensorflow) (4.9)\n",
            "Requirement already satisfied: requests-oauthlib>=0.7.0 in /usr/local/lib/python3.10/dist-packages (from google-auth-oauthlib<1.1,>=0.5->tensorboard<2.15,>=2.14->tensorflow) (1.3.1)\n",
            "Requirement already satisfied: charset-normalizer<4,>=2 in /usr/local/lib/python3.10/dist-packages (from requests<3,>=2.21.0->tensorboard<2.15,>=2.14->tensorflow) (3.3.1)\n",
            "Requirement already satisfied: idna<4,>=2.5 in /usr/local/lib/python3.10/dist-packages (from requests<3,>=2.21.0->tensorboard<2.15,>=2.14->tensorflow) (3.4)\n",
            "Requirement already satisfied: urllib3<3,>=1.21.1 in /usr/local/lib/python3.10/dist-packages (from requests<3,>=2.21.0->tensorboard<2.15,>=2.14->tensorflow) (2.0.7)\n",
            "Requirement already satisfied: certifi>=2017.4.17 in /usr/local/lib/python3.10/dist-packages (from requests<3,>=2.21.0->tensorboard<2.15,>=2.14->tensorflow) (2023.7.22)\n",
            "Requirement already satisfied: MarkupSafe>=2.1.1 in /usr/local/lib/python3.10/dist-packages (from werkzeug>=1.0.1->tensorboard<2.15,>=2.14->tensorflow) (2.1.3)\n",
            "Requirement already satisfied: pyasn1<0.6.0,>=0.4.6 in /usr/local/lib/python3.10/dist-packages (from pyasn1-modules>=0.2.1->google-auth<3,>=1.6.3->tensorboard<2.15,>=2.14->tensorflow) (0.5.0)\n",
            "Requirement already satisfied: oauthlib>=3.0.0 in /usr/local/lib/python3.10/dist-packages (from requests-oauthlib>=0.7.0->google-auth-oauthlib<1.1,>=0.5->tensorboard<2.15,>=2.14->tensorflow) (3.2.2)\n"
          ]
        }
      ],
      "source": [
        "!pip install --upgrade tensorflow"
      ]
    },
    {
      "cell_type": "code",
      "execution_count": null,
      "metadata": {
        "colab": {
          "base_uri": "https://localhost:8080/"
        },
        "id": "09MpIbpy3FzZ",
        "outputId": "0014d09b-8402-40b8-8bd8-0aa7af14215e"
      },
      "outputs": [
        {
          "name": "stdout",
          "output_type": "stream",
          "text": [
            "Collecting pytorch\n",
            "  Downloading pytorch-1.0.2.tar.gz (689 bytes)\n",
            "  Preparing metadata (setup.py) ... \u001b[?25l\u001b[?25hdone\n",
            "Building wheels for collected packages: pytorch\n",
            "  \u001b[1;31merror\u001b[0m: \u001b[1msubprocess-exited-with-error\u001b[0m\n",
            "  \n",
            "  \u001b[31m×\u001b[0m \u001b[32mpython setup.py bdist_wheel\u001b[0m did not run successfully.\n",
            "  \u001b[31m│\u001b[0m exit code: \u001b[1;36m1\u001b[0m\n",
            "  \u001b[31m╰─>\u001b[0m See above for output.\n",
            "  \n",
            "  \u001b[1;35mnote\u001b[0m: This error originates from a subprocess, and is likely not a problem with pip.\n",
            "  Building wheel for pytorch (setup.py) ... \u001b[?25lerror\n",
            "\u001b[31m  ERROR: Failed building wheel for pytorch\u001b[0m\u001b[31m\n",
            "\u001b[0m\u001b[?25h  Running setup.py clean for pytorch\n",
            "Failed to build pytorch\n",
            "\u001b[31mERROR: Could not build wheels for pytorch, which is required to install pyproject.toml-based projects\u001b[0m\u001b[31m\n",
            "\u001b[0m"
          ]
        }
      ],
      "source": [
        "!pip install pytorch"
      ]
    },
    {
      "cell_type": "code",
      "execution_count": null,
      "metadata": {
        "colab": {
          "base_uri": "https://localhost:8080/"
        },
        "id": "lJI1h1BMP-Cm",
        "outputId": "107166ab-2bda-4daa-ad27-5595b7fdeab2"
      },
      "outputs": [
        {
          "name": "stdout",
          "output_type": "stream",
          "text": [
            "Requirement already satisfied: opencv-python in /usr/local/lib/python3.10/dist-packages (4.8.0.76)\n",
            "Requirement already satisfied: pillow in /usr/local/lib/python3.10/dist-packages (9.4.0)\n",
            "Requirement already satisfied: tensorflow in /usr/local/lib/python3.10/dist-packages (2.14.0)\n",
            "Requirement already satisfied: numpy>=1.21.2 in /usr/local/lib/python3.10/dist-packages (from opencv-python) (1.23.5)\n",
            "Requirement already satisfied: absl-py>=1.0.0 in /usr/local/lib/python3.10/dist-packages (from tensorflow) (1.4.0)\n",
            "Requirement already satisfied: astunparse>=1.6.0 in /usr/local/lib/python3.10/dist-packages (from tensorflow) (1.6.3)\n",
            "Requirement already satisfied: flatbuffers>=23.5.26 in /usr/local/lib/python3.10/dist-packages (from tensorflow) (23.5.26)\n",
            "Requirement already satisfied: gast!=0.5.0,!=0.5.1,!=0.5.2,>=0.2.1 in /usr/local/lib/python3.10/dist-packages (from tensorflow) (0.5.4)\n",
            "Requirement already satisfied: google-pasta>=0.1.1 in /usr/local/lib/python3.10/dist-packages (from tensorflow) (0.2.0)\n",
            "Requirement already satisfied: h5py>=2.9.0 in /usr/local/lib/python3.10/dist-packages (from tensorflow) (3.9.0)\n",
            "Requirement already satisfied: libclang>=13.0.0 in /usr/local/lib/python3.10/dist-packages (from tensorflow) (16.0.6)\n",
            "Requirement already satisfied: ml-dtypes==0.2.0 in /usr/local/lib/python3.10/dist-packages (from tensorflow) (0.2.0)\n",
            "Requirement already satisfied: opt-einsum>=2.3.2 in /usr/local/lib/python3.10/dist-packages (from tensorflow) (3.3.0)\n",
            "Requirement already satisfied: packaging in /usr/local/lib/python3.10/dist-packages (from tensorflow) (23.2)\n",
            "Requirement already satisfied: protobuf!=4.21.0,!=4.21.1,!=4.21.2,!=4.21.3,!=4.21.4,!=4.21.5,<5.0.0dev,>=3.20.3 in /usr/local/lib/python3.10/dist-packages (from tensorflow) (3.20.3)\n",
            "Requirement already satisfied: setuptools in /usr/local/lib/python3.10/dist-packages (from tensorflow) (67.7.2)\n",
            "Requirement already satisfied: six>=1.12.0 in /usr/local/lib/python3.10/dist-packages (from tensorflow) (1.16.0)\n",
            "Requirement already satisfied: termcolor>=1.1.0 in /usr/local/lib/python3.10/dist-packages (from tensorflow) (2.3.0)\n",
            "Requirement already satisfied: typing-extensions>=3.6.6 in /usr/local/lib/python3.10/dist-packages (from tensorflow) (4.5.0)\n",
            "Requirement already satisfied: wrapt<1.15,>=1.11.0 in /usr/local/lib/python3.10/dist-packages (from tensorflow) (1.14.1)\n",
            "Requirement already satisfied: tensorflow-io-gcs-filesystem>=0.23.1 in /usr/local/lib/python3.10/dist-packages (from tensorflow) (0.34.0)\n",
            "Requirement already satisfied: grpcio<2.0,>=1.24.3 in /usr/local/lib/python3.10/dist-packages (from tensorflow) (1.59.0)\n",
            "Requirement already satisfied: tensorboard<2.15,>=2.14 in /usr/local/lib/python3.10/dist-packages (from tensorflow) (2.14.1)\n",
            "Requirement already satisfied: tensorflow-estimator<2.15,>=2.14.0 in /usr/local/lib/python3.10/dist-packages (from tensorflow) (2.14.0)\n",
            "Requirement already satisfied: keras<2.15,>=2.14.0 in /usr/local/lib/python3.10/dist-packages (from tensorflow) (2.14.0)\n",
            "Requirement already satisfied: wheel<1.0,>=0.23.0 in /usr/local/lib/python3.10/dist-packages (from astunparse>=1.6.0->tensorflow) (0.41.2)\n",
            "Requirement already satisfied: google-auth<3,>=1.6.3 in /usr/local/lib/python3.10/dist-packages (from tensorboard<2.15,>=2.14->tensorflow) (2.17.3)\n",
            "Requirement already satisfied: google-auth-oauthlib<1.1,>=0.5 in /usr/local/lib/python3.10/dist-packages (from tensorboard<2.15,>=2.14->tensorflow) (1.0.0)\n",
            "Requirement already satisfied: markdown>=2.6.8 in /usr/local/lib/python3.10/dist-packages (from tensorboard<2.15,>=2.14->tensorflow) (3.5)\n",
            "Requirement already satisfied: requests<3,>=2.21.0 in /usr/local/lib/python3.10/dist-packages (from tensorboard<2.15,>=2.14->tensorflow) (2.31.0)\n",
            "Requirement already satisfied: tensorboard-data-server<0.8.0,>=0.7.0 in /usr/local/lib/python3.10/dist-packages (from tensorboard<2.15,>=2.14->tensorflow) (0.7.2)\n",
            "Requirement already satisfied: werkzeug>=1.0.1 in /usr/local/lib/python3.10/dist-packages (from tensorboard<2.15,>=2.14->tensorflow) (3.0.1)\n",
            "Requirement already satisfied: cachetools<6.0,>=2.0.0 in /usr/local/lib/python3.10/dist-packages (from google-auth<3,>=1.6.3->tensorboard<2.15,>=2.14->tensorflow) (5.3.2)\n",
            "Requirement already satisfied: pyasn1-modules>=0.2.1 in /usr/local/lib/python3.10/dist-packages (from google-auth<3,>=1.6.3->tensorboard<2.15,>=2.14->tensorflow) (0.3.0)\n",
            "Requirement already satisfied: rsa<5,>=3.1.4 in /usr/local/lib/python3.10/dist-packages (from google-auth<3,>=1.6.3->tensorboard<2.15,>=2.14->tensorflow) (4.9)\n",
            "Requirement already satisfied: requests-oauthlib>=0.7.0 in /usr/local/lib/python3.10/dist-packages (from google-auth-oauthlib<1.1,>=0.5->tensorboard<2.15,>=2.14->tensorflow) (1.3.1)\n",
            "Requirement already satisfied: charset-normalizer<4,>=2 in /usr/local/lib/python3.10/dist-packages (from requests<3,>=2.21.0->tensorboard<2.15,>=2.14->tensorflow) (3.3.1)\n",
            "Requirement already satisfied: idna<4,>=2.5 in /usr/local/lib/python3.10/dist-packages (from requests<3,>=2.21.0->tensorboard<2.15,>=2.14->tensorflow) (3.4)\n",
            "Requirement already satisfied: urllib3<3,>=1.21.1 in /usr/local/lib/python3.10/dist-packages (from requests<3,>=2.21.0->tensorboard<2.15,>=2.14->tensorflow) (2.0.7)\n",
            "Requirement already satisfied: certifi>=2017.4.17 in /usr/local/lib/python3.10/dist-packages (from requests<3,>=2.21.0->tensorboard<2.15,>=2.14->tensorflow) (2023.7.22)\n",
            "Requirement already satisfied: MarkupSafe>=2.1.1 in /usr/local/lib/python3.10/dist-packages (from werkzeug>=1.0.1->tensorboard<2.15,>=2.14->tensorflow) (2.1.3)\n",
            "Requirement already satisfied: pyasn1<0.6.0,>=0.4.6 in /usr/local/lib/python3.10/dist-packages (from pyasn1-modules>=0.2.1->google-auth<3,>=1.6.3->tensorboard<2.15,>=2.14->tensorflow) (0.5.0)\n",
            "Requirement already satisfied: oauthlib>=3.0.0 in /usr/local/lib/python3.10/dist-packages (from requests-oauthlib>=0.7.0->google-auth-oauthlib<1.1,>=0.5->tensorboard<2.15,>=2.14->tensorflow) (3.2.2)\n"
          ]
        }
      ],
      "source": [
        "!pip install opencv-python pillow tensorflow"
      ]
    },
    {
      "cell_type": "code",
      "execution_count": null,
      "metadata": {
        "colab": {
          "base_uri": "https://localhost:8080/"
        },
        "id": "JJt96Ew6yTaw",
        "outputId": "6de3f03a-e942-4089-acd0-8d5d266af472"
      },
      "outputs": [
        {
          "name": "stdout",
          "output_type": "stream",
          "text": [
            "--2023-10-30 19:35:39--  https://pjreddie.com/media/files/yolov3.weights\n",
            "Resolving pjreddie.com (pjreddie.com)... 128.208.4.108\n",
            "Connecting to pjreddie.com (pjreddie.com)|128.208.4.108|:443... connected.\n",
            "HTTP request sent, awaiting response... 200 OK\n",
            "Length: 248007048 (237M) [application/octet-stream]\n",
            "Saving to: ‘yolov3.weights’\n",
            "\n",
            "yolov3.weights      100%[===================>] 236.52M  71.1MB/s    in 3.6s    \n",
            "\n",
            "2023-10-30 19:35:43 (65.2 MB/s) - ‘yolov3.weights’ saved [248007048/248007048]\n",
            "\n"
          ]
        }
      ],
      "source": [
        "!wget https://pjreddie.com/media/files/yolov3.weights"
      ]
    },
    {
      "cell_type": "code",
      "execution_count": null,
      "metadata": {
        "colab": {
          "base_uri": "https://localhost:8080/"
        },
        "id": "TtuRsX_3yiy6",
        "outputId": "3e326b25-d89b-4bd3-9df5-4171888e0df2"
      },
      "outputs": [
        {
          "name": "stdout",
          "output_type": "stream",
          "text": [
            "--2023-10-30 19:35:43--  https://raw.githubusercontent.com/pjreddie/darknet/master/cfg/yolov3.cfg\n",
            "Resolving raw.githubusercontent.com (raw.githubusercontent.com)... 185.199.108.133, 185.199.110.133, 185.199.111.133, ...\n",
            "Connecting to raw.githubusercontent.com (raw.githubusercontent.com)|185.199.108.133|:443... connected.\n",
            "HTTP request sent, awaiting response... 200 OK\n",
            "Length: 8342 (8.1K) [text/plain]\n",
            "Saving to: ‘yolov3.cfg’\n",
            "\n",
            "\ryolov3.cfg            0%[                    ]       0  --.-KB/s               \ryolov3.cfg          100%[===================>]   8.15K  --.-KB/s    in 0s      \n",
            "\n",
            "2023-10-30 19:35:43 (115 MB/s) - ‘yolov3.cfg’ saved [8342/8342]\n",
            "\n"
          ]
        }
      ],
      "source": [
        "!wget https://raw.githubusercontent.com/pjreddie/darknet/master/cfg/yolov3.cfg"
      ]
    },
    {
      "cell_type": "code",
      "execution_count": null,
      "metadata": {
        "colab": {
          "base_uri": "https://localhost:8080/"
        },
        "id": "8-6a01r1yyyt",
        "outputId": "bdba7189-be04-421a-f551-1916b7184879"
      },
      "outputs": [
        {
          "name": "stdout",
          "output_type": "stream",
          "text": [
            "cardboard\t  glass  paper\t    plastic  yolov3.cfg\n",
            "garbage_model.h5  metal  photo.jpg  trash    yolov3.weights\n"
          ]
        }
      ],
      "source": [
        "!ls"
      ]
    },
    {
      "cell_type": "markdown",
      "metadata": {
        "id": "s_aCHvOhAc61"
      },
      "source": [
        "## **Connecting to The Google drive to get The dataset**"
      ]
    },
    {
      "cell_type": "code",
      "execution_count": null,
      "metadata": {
        "colab": {
          "base_uri": "https://localhost:8080/"
        },
        "id": "1nxQpS5yXXzN",
        "outputId": "f7c09220-c74d-467a-e283-7c12c3daa0a7"
      },
      "outputs": [
        {
          "name": "stdout",
          "output_type": "stream",
          "text": [
            "Mounted at /content/drive\n"
          ]
        }
      ],
      "source": [
        "from google.colab import drive\n",
        "drive.mount('/content/drive')"
      ]
    },
    {
      "cell_type": "markdown",
      "metadata": {
        "id": "YD0gbiHkN2o2"
      },
      "source": [
        "[Garabage Clssification Dataset](https://www.kaggle.com/datasets/asdasdasasdas/garbage-classification/data)"
      ]
    },
    {
      "cell_type": "markdown",
      "metadata": {
        "id": "ymTYqdYSNyEa"
      },
      "source": [
        "## Loading Libraries"
      ]
    },
    {
      "cell_type": "code",
      "execution_count": null,
      "metadata": {
        "id": "xwNokR-gmrO2"
      },
      "outputs": [],
      "source": [
        "import cv2\n",
        "import numpy as np\n",
        "#On importing functions from library Tensorflow it is better to write it in the code itself not import it and use it then\n",
        "import tensorflow as tf # We use tf alias on using tensorflow library\n",
        "import random\n",
        "import os\n",
        "#from kaggle.api.kaggle_api_extended import KaggleApi\n",
        "import random\n",
        "import shutil\n",
        "from sklearn.model_selection import train_test_split\n",
        "from sklearn.utils import shuffle\n",
        "import torch\n",
        "import torchvision\n",
        "import cv2\n",
        "from pycocotools.coco import COCO\n",
        "from IPython.display import Image\n",
        "from PIL import Image\n",
        "import requests\n",
        "#from yolov5.models.common import DetectMultiBackend\n",
        "#from yolov5.utils.datasets import LoadImagesAndLabels\n",
        "#from yolov5.utils.general import coco80_to_coco91_class\n"
      ]
    },
    {
      "cell_type": "markdown",
      "metadata": {
        "id": "_NQtckUSBB2v"
      },
      "source": [
        "## Tensorflow\n",
        "[TensorFlow For Beginners](https://colab.research.google.com/github/tensorflow/docs/blob/master/site/en/tutorials/quickstart/beginner.ipynb)\n",
        "*VERY IMP NOTE ON DOWNLOADING TENSORFLOW ON YOUR LOCAL COMPUTER BE CAREFUL ABOUT USING PIP TO INSTALL IT AND MAKE SURE VERSIONS OF PYTHON TENSORFLOW AND PIP ARE RIGHT OTHERWISE IT WON'T BE RECOGNIZED BY THE COMPUTER / OR DOWNLOAD IT MANUALLY FOLLOWING A TUTORIAL/ OR USE IT ON GOOGLE COLAB IT MAINTAINS THESE ERRORS*\n",
        "1. **Collect a dataset of images of garbage, labeled with the type of garbage.** You can either collect this dataset yourself or use a pre-existing dataset. Some pre-existing datasets that you can use include:\n",
        "    - TrashNet\n",
        "    - RecycleNet\n",
        "    - Google AI CircularNet dataset\n",
        "2. **Split the dataset into training and test sets.** The training set will be used to train the model, and the test set will be used to evaluate the performance of the model on unseen data. A common split is to use 80% of the dataset for training and 20% of the dataset for testing.\n",
        "3. **Preprocess the images.** This may involve resizing the images to a consistent size, normalizing the pixel values, and/or cropping the images to focus on the garbage item.\n",
        "4. **Choose a model architecture.** There are a number of different TensorFlow model architectures that you can use for garbage classification. Some popular choices include:\n",
        "    - ResNet\n",
        "    - MobileNet\n",
        "    - EfficientNet\n",
        "    - VGG16\n",
        "5. **Compile the model.** This involves specifying the loss function, optimizer, and learning rate.\n",
        "6. **Train the model.** This involves feeding the training images to the model and updating the model parameters to minimize the loss function.\n",
        "7. **Evaluate the model.** This involves feeding the test images to the model and measuring the accuracy of the model's predictions.\n",
        "8. **Save the model.** Once you are satisfied with the performance of the model, you can save it to a file. This will allow you to load the model later and use it to classify new images of garbage."
      ]
    },
    {
      "cell_type": "markdown",
      "metadata": {
        "id": "tIX5d80vS1og"
      },
      "source": [
        "## Tutorial For tensorflow\n",
        "\n",
        "*   [TensorFlow](https://www.youtube.com/watch?v=CMu25mtyl-s)\n",
        "*   [Train Neural Network](https://www.youtube.com/watch?v=uqomO_BZ44g)\n",
        "\n",
        "\n"
      ]
    },
    {
      "cell_type": "markdown",
      "metadata": {
        "id": "mrHC8s8fxtOB"
      },
      "source": [
        "Yolo"
      ]
    },
    {
      "cell_type": "code",
      "execution_count": null,
      "metadata": {
        "colab": {
          "background_save": true
        },
        "id": "opp_N1Hdxsgz"
      },
      "outputs": [],
      "source": [
        "dataset = '/content/drive/MyDrive/dataset/Garbage_classification/Garbage_classification'\n",
        "# Load the pre-trained YOLOv3 weights and configuration\n",
        "yolo_weights = 'yolov3.weights'\n",
        "yolo_config = 'yolov3.cfg'\n",
        "yolo_classes = '/content/drive/MyDrive/yolov3.txt' #Upload the file on Github please\n",
        "\n",
        "# Load the class labels\n",
        "with open(yolo_classes, 'r') as f:\n",
        "    class_names = f.read().splitlines()\n",
        "\n",
        "    # Load the YOLO model\n",
        "net = cv2.dnn.readNetFromDarknet(yolo_config, yolo_weights)\n",
        "\n",
        "# Set backend and target to use GPU\n",
        "net.setPreferableBackend(cv2.dnn.DNN_BACKEND_CUDA)\n",
        "net.setPreferableTarget(cv2.dnn.DNN_TARGET_CUDA)\n",
        "\n",
        "# Set the input image size\n",
        "input_size = (416, 416)\n",
        "\n",
        "# Get the list of all images in the Kaggle database\n",
        "image_paths = []\n",
        "for root, dirs, files in os.walk('/content/drive/MyDrive/dataset/Garbage_classification/Garbage_classification'):\n",
        "    for file in files:\n",
        "        if file.endswith('.jpg'):\n",
        "            image_paths.append(os.path.join(root, file))\n",
        "\n",
        "# Iterate over all the images in the database\n",
        "for image_path in image_paths:\n",
        "\n",
        "    # Load and preprocess the image\n",
        "    image = cv2.imread(image_path)\n",
        "    blob = cv2.dnn.blobFromImage(image, 1/255.0, input_size, swapRB=True, crop=False)\n",
        "# Set the input blob for the network\n",
        "net.setInput(blob)\n",
        "\n",
        "# Forward pass through the network\n",
        "layer_names = net.getLayerNames()\n",
        "unconnected_out_layer_index = net.getUnconnectedOutLayers()\n",
        "\n",
        "if isinstance(unconnected_out_layer_index, int):\n",
        "    output_layers = layer_names[unconnected_out_layer_index]\n",
        "else:\n",
        "    output_layers = [layer_names[i - 1] for i in unconnected_out_layer_index]\n",
        "\n",
        "outputs = net.forward(output_layers)\n",
        "\n",
        "\n",
        "# Process the outputs\n",
        "class_ids = []\n",
        "confidences = []\n",
        "boxes = []\n",
        "\n",
        "for output in outputs:\n",
        "    for detection in output:\n",
        "        scores = detection[5:]\n",
        "        class_id = np.argmax(scores)\n",
        "        confidence = scores[class_id]\n",
        "\n",
        "        if confidence > 0.5:\n",
        "            center_x = int(detection[0] * image.shape[1])\n",
        "            center_y = int(detection[1] * image.shape[0])\n",
        "            width = int(detection[2] * image.shape[1])\n",
        "            height = int(detection[3] * image.shape[0])\n",
        "\n",
        "\n",
        "            # Calculate the top-left corner coordinates of the bounding box\n",
        "            x = int(center_x - width / 2)\n",
        "            y = int(center_y - height / 2)\n",
        "\n",
        "            class_ids.append(class_id)\n",
        "            confidences.append(float(confidence))\n",
        "            boxes.append([x, y, width, height])\n",
        "\n",
        "# Apply non-maximum suppression to remove redundant overlapping boxes\n",
        "indices = cv2.dnn.NMSBoxes(boxes, confidences, score_threshold=0.5, nms_threshold=0.4)\n",
        "\n",
        "# Draw the bounding boxes and labels on the image\n",
        "for i in indices:\n",
        "    i = i[0]\n",
        "    x, y, width, height = boxes[i]\n",
        "    class_id = class_ids[i]\n",
        "    class_name = class_names[class_id]\n",
        "    confidence = confidences[i]\n",
        "\n",
        "\n",
        "    # Draw bounding box\n",
        "    cv2.rectangle(image, (x, y), (x+width, y+height), (0, 255, 0), 2)\n",
        "\n",
        "    # Draw label and confidence\n",
        "    label = f'{class_name}: {confidence:.2f}'\n",
        "    cv2.putText(image, label, (x, y-10), cv2.FONT_HERSHEY_SIMPLEX, 0.5, (0, 255, 0), 2)\n"
      ]
    },
    {
      "cell_type": "markdown",
      "metadata": {
        "id": "4zvnGP4X3eN9"
      },
      "source": [
        "# Training the model using TensorFlow"
      ]
    },
    {
      "cell_type": "code",
      "execution_count": null,
      "metadata": {
        "colab": {
          "base_uri": "https://localhost:8080/",
          "height": 227
        },
        "id": "TzWS20MxSUEU",
        "outputId": "b171eee3-4df7-496b-9fca-bcdd43ecba6f"
      },
      "outputs": [
        {
          "output_type": "error",
          "ename": "AttributeError",
          "evalue": "ignored",
          "traceback": [
            "\u001b[0;31m---------------------------------------------------------------------------\u001b[0m",
            "\u001b[0;31mAttributeError\u001b[0m                            Traceback (most recent call last)",
            "\u001b[0;32m<ipython-input-26-a9f39869d81f>\u001b[0m in \u001b[0;36m<cell line: 7>\u001b[0;34m()\u001b[0m\n\u001b[1;32m      5\u001b[0m \u001b[0mbatch_size\u001b[0m \u001b[0;34m=\u001b[0m \u001b[0;36m64\u001b[0m\u001b[0;34m\u001b[0m\u001b[0;34m\u001b[0m\u001b[0m\n\u001b[1;32m      6\u001b[0m \u001b[0mdataset_name\u001b[0m \u001b[0;34m=\u001b[0m \u001b[0mdataset\u001b[0m\u001b[0;34m\u001b[0m\u001b[0;34m\u001b[0m\u001b[0m\n\u001b[0;32m----> 7\u001b[0;31m \u001b[0mclass_names\u001b[0m \u001b[0;34m=\u001b[0m \u001b[0mdataset\u001b[0m\u001b[0;34m.\u001b[0m\u001b[0mclass_names\u001b[0m\u001b[0;34m\u001b[0m\u001b[0;34m\u001b[0m\u001b[0m\n\u001b[0m\u001b[1;32m      8\u001b[0m \u001b[0mprint\u001b[0m\u001b[0;34m(\u001b[0m\u001b[0mclass_names\u001b[0m\u001b[0;34m)\u001b[0m\u001b[0;34m\u001b[0m\u001b[0;34m\u001b[0m\u001b[0m\n",
            "\u001b[0;31mAttributeError\u001b[0m: 'str' object has no attribute 'class_names'"
          ]
        }
      ],
      "source": [
        "import tensorflow_datasets as tds\n",
        "\n",
        "# Defining batch size and image labels\n",
        "\n",
        "batch_size = 64\n",
        "dataset_name = dataset\n",
        "class_names = dataset.class_names\n",
        "print(class_names)"
      ]
    },
    {
      "cell_type": "code",
      "execution_count": null,
      "metadata": {
        "colab": {
          "base_uri": "https://localhost:8080/"
        },
        "id": "6oy4-5qZqyMj",
        "outputId": "8e1e828b-5566-4c04-85c5-c71fba423681"
      },
      "outputs": [
        {
          "output_type": "stream",
          "name": "stdout",
          "text": [
            "Found 2527 images belonging to 6 classes.\n",
            "Found 2527 images belonging to 6 classes.\n",
            "Epoch 1/30\n",
            "79/79 [==============================] - 34s 149ms/step - loss: 0.6541 - accuracy: 0.5026\n",
            "Epoch 2/30\n",
            "79/79 [==============================] - 12s 145ms/step - loss: 0.6004 - accuracy: 0.4424\n",
            "Epoch 3/30\n",
            "79/79 [==============================] - 12s 148ms/step - loss: 0.5611 - accuracy: 0.3463\n",
            "Epoch 4/30\n",
            "79/79 [==============================] - 12s 145ms/step - loss: 0.5314 - accuracy: 0.2837\n",
            "Epoch 5/30\n",
            "79/79 [==============================] - 11s 141ms/step - loss: 0.5088 - accuracy: 0.2897\n",
            "Epoch 6/30\n",
            "79/79 [==============================] - 14s 171ms/step - loss: 0.4906 - accuracy: 0.3399\n",
            "Epoch 7/30\n",
            "79/79 [==============================] - 12s 147ms/step - loss: 0.4763 - accuracy: 0.3178\n",
            "Epoch 8/30\n",
            "79/79 [==============================] - 12s 147ms/step - loss: 0.4683 - accuracy: 0.3008\n",
            "Epoch 9/30\n",
            "79/79 [==============================] - 11s 143ms/step - loss: 0.4563 - accuracy: 0.3261\n",
            "Epoch 10/30\n",
            "79/79 [==============================] - 11s 137ms/step - loss: 0.4468 - accuracy: 0.3522\n",
            "Epoch 11/30\n",
            "79/79 [==============================] - 12s 145ms/step - loss: 0.4393 - accuracy: 0.3502\n",
            "Epoch 12/30\n",
            "79/79 [==============================] - 12s 147ms/step - loss: 0.4312 - accuracy: 0.3597\n",
            "Epoch 13/30\n",
            "79/79 [==============================] - 12s 147ms/step - loss: 0.4257 - accuracy: 0.3609\n",
            "Epoch 14/30\n",
            "79/79 [==============================] - 12s 148ms/step - loss: 0.4166 - accuracy: 0.3807\n",
            "Epoch 15/30\n",
            "79/79 [==============================] - 12s 146ms/step - loss: 0.4134 - accuracy: 0.3759\n",
            "Epoch 16/30\n",
            "79/79 [==============================] - 12s 147ms/step - loss: 0.4091 - accuracy: 0.3811\n",
            "Epoch 17/30\n",
            "79/79 [==============================] - 11s 135ms/step - loss: 0.4028 - accuracy: 0.3862\n",
            "Epoch 18/30\n",
            "79/79 [==============================] - 12s 145ms/step - loss: 0.3991 - accuracy: 0.3930\n",
            "Epoch 19/30\n",
            "79/79 [==============================] - 12s 149ms/step - loss: 0.3953 - accuracy: 0.3977\n",
            "Epoch 20/30\n",
            "79/79 [==============================] - 12s 146ms/step - loss: 0.3942 - accuracy: 0.3878\n",
            "Epoch 21/30\n",
            "79/79 [==============================] - 12s 148ms/step - loss: 0.3960 - accuracy: 0.3886\n",
            "Epoch 22/30\n",
            "79/79 [==============================] - 11s 142ms/step - loss: 0.3880 - accuracy: 0.3934\n",
            "Epoch 23/30\n",
            "79/79 [==============================] - 12s 144ms/step - loss: 0.3873 - accuracy: 0.3898\n",
            "Epoch 24/30\n",
            "79/79 [==============================] - 12s 145ms/step - loss: 0.3867 - accuracy: 0.3977\n",
            "Epoch 25/30\n",
            "79/79 [==============================] - 12s 145ms/step - loss: 0.3841 - accuracy: 0.3953\n",
            "Epoch 26/30\n",
            "79/79 [==============================] - 12s 145ms/step - loss: 0.3816 - accuracy: 0.4009\n",
            "Epoch 27/30\n",
            "79/79 [==============================] - 11s 138ms/step - loss: 0.3856 - accuracy: 0.3886\n",
            "Epoch 28/30\n",
            "79/79 [==============================] - 12s 145ms/step - loss: 0.3771 - accuracy: 0.4025\n",
            "Epoch 29/30\n",
            "79/79 [==============================] - 12s 145ms/step - loss: 0.3812 - accuracy: 0.3965\n",
            "Epoch 30/30\n",
            "79/79 [==============================] - 12s 149ms/step - loss: 0.3769 - accuracy: 0.4048\n",
            "79/79 [==============================] - 10s 113ms/step - loss: 0.4946 - accuracy: 0.2794\n",
            "Validation accuracy: 0.2793826758861542\n"
          ]
        }
      ],
      "source": [
        "# Load the pre-trained MobileNetV2 model\n",
        "base_model = tf.keras.applications.mobilenet_v2.MobileNetV2(input_shape=(224, 224, 3), weights='imagenet')\n",
        "\n",
        "# Reshape the output of the base model to 4D\n",
        "base_model_output = tf.reshape(base_model.output, [-1, 1, 1, 1000])\n",
        "\n",
        "# Create a data loader for the training and validation data\n",
        "train_datagen = tf.keras.preprocessing.image.ImageDataGenerator(rescale=1./255)\n",
        "val_datagen = tf.keras.preprocessing.image.ImageDataGenerator(rescale=1./255)\n",
        "\n",
        "train_generator = train_datagen.flow_from_directory(\n",
        "    '/content/drive/MyDrive/dataset/Garbage_classification/Garbage_classification/',\n",
        "    target_size=(224, 224),\n",
        "    batch_size=32,\n",
        "    class_mode='categorical'\n",
        ")\n",
        "\n",
        "val_generator = val_datagen.flow_from_directory(\n",
        "    '/content/drive/MyDrive/dataset/Garbage_classification/Garbage_classification/',\n",
        "    target_size=(224, 224),\n",
        "    batch_size=32,\n",
        "    class_mode='categorical'\n",
        ")\n",
        "\n",
        "# Add a global average pooling layer\n",
        "x = tf.keras.layers.GlobalAveragePooling2D()(base_model_output)\n",
        "\n",
        "# Add a dense layer with 6 outputs, corresponding to the 6 garbage classes\n",
        "x = tf.keras.layers.Dense(6, activation='sigmoid')(x)\n",
        "\n",
        "# Create the model\n",
        "model = tf.keras.Model(inputs=base_model.input, outputs=x)\n",
        "\n",
        "# Compile the model\n",
        "model.compile(optimizer='adam', loss='binary_crossentropy', metrics=['accuracy'])\n",
        "\n",
        "# Train the model\n",
        "model.fit(train_generator, epochs=30)\n",
        "\n",
        "# Evaluate the model\n",
        "val_loss, val_accuracy = model.evaluate(val_generator)\n",
        "\n",
        "# Save the model\n",
        "model.save('garbage_model.h5')\n",
        "\n",
        "# Load the trained TensorFlow model\n",
        "model = tf.keras.models.load_model('garbage_model.h5')\n",
        "\n",
        "\n",
        "# Print the validation accuracy\n",
        "print('Validation accuracy:', val_accuracy)"
      ]
    },
    {
      "cell_type": "markdown",
      "metadata": {
        "id": "X5iW97oecjqk"
      },
      "source": [
        "## **Capturing image from webcam to be classified to the By the trained model**\n",
        "\n",
        "\n",
        "---\n",
        "\n",
        "# Code that is taken from google coolab as we are working on cloud not local computer\n"
      ]
    },
    {
      "cell_type": "code",
      "execution_count": null,
      "metadata": {
        "id": "uszz59u_8IGm"
      },
      "outputs": [],
      "source": [
        "from IPython.display import display, Javascript\n",
        "from google.colab.output import eval_js\n",
        "from base64 import b64decode\n",
        "\n",
        "def take_photo(filename='photo.jpg', quality=0.8):\n",
        "  js = Javascript('''\n",
        "    async function takePhoto(quality) {\n",
        "      const div = document.createElement('div');\n",
        "      const capture = document.createElement('button');\n",
        "      capture.textContent = 'Capture';\n",
        "      div.appendChild(capture);\n",
        "\n",
        "      const video = document.createElement('video');\n",
        "      video.style.display = 'block';\n",
        "      const stream = await navigator.mediaDevices.getUserMedia({video: true});\n",
        "\n",
        "      document.body.appendChild(div);\n",
        "      div.appendChild(video);\n",
        "      video.srcObject = stream;\n",
        "      await video.play();\n",
        "\n",
        "      // Resize the output to fit the video element.\n",
        "      google.colab.output.setIframeHeight(document.documentElement.scrollHeight, true);\n",
        "\n",
        "      // Wait for Capture to be clicked.\n",
        "      await new Promise((resolve) => capture.onclick = resolve);\n",
        "\n",
        "      const canvas = document.createElement('canvas');\n",
        "      canvas.width = video.videoWidth;\n",
        "      canvas.height = video.videoHeight;\n",
        "      canvas.getContext('2d').drawImage(video, 0, 0);\n",
        "      stream.getVideoTracks()[0].stop();\n",
        "      div.remove();\n",
        "      return canvas.toDataURL('image/jpeg', quality);\n",
        "    }\n",
        "    ''')\n",
        "  display(js)\n",
        "  data = eval_js('takePhoto({})'.format(quality))\n",
        "  binary = b64decode(data.split(',')[1])\n",
        "  with open(filename, 'wb') as f:\n",
        "    f.write(binary)\n",
        "  return filename"
      ]
    },
    {
      "cell_type": "code",
      "execution_count": null,
      "metadata": {
        "colab": {
          "base_uri": "https://localhost:8080/",
          "height": 514
        },
        "id": "F5THos_O8s7C",
        "outputId": "48374ac8-89fa-4900-f391-7ed96182c8eb"
      },
      "outputs": [
        {
          "data": {
            "application/javascript": [
              "\n",
              "    async function takePhoto(quality) {\n",
              "      const div = document.createElement('div');\n",
              "      const capture = document.createElement('button');\n",
              "      capture.textContent = 'Capture';\n",
              "      div.appendChild(capture);\n",
              "\n",
              "      const video = document.createElement('video');\n",
              "      video.style.display = 'block';\n",
              "      const stream = await navigator.mediaDevices.getUserMedia({video: true});\n",
              "\n",
              "      document.body.appendChild(div);\n",
              "      div.appendChild(video);\n",
              "      video.srcObject = stream;\n",
              "      await video.play();\n",
              "\n",
              "      // Resize the output to fit the video element.\n",
              "      google.colab.output.setIframeHeight(document.documentElement.scrollHeight, true);\n",
              "\n",
              "      // Wait for Capture to be clicked.\n",
              "      await new Promise((resolve) => capture.onclick = resolve);\n",
              "\n",
              "      const canvas = document.createElement('canvas');\n",
              "      canvas.width = video.videoWidth;\n",
              "      canvas.height = video.videoHeight;\n",
              "      canvas.getContext('2d').drawImage(video, 0, 0);\n",
              "      stream.getVideoTracks()[0].stop();\n",
              "      div.remove();\n",
              "      return canvas.toDataURL('image/jpeg', quality);\n",
              "    }\n",
              "    "
            ],
            "text/plain": [
              "<IPython.core.display.Javascript object>"
            ]
          },
          "metadata": {},
          "output_type": "display_data"
        },
        {
          "name": "stdout",
          "output_type": "stream",
          "text": [
            "Saved to photo.jpg\n"
          ]
        },
        {
          "data": {
            "image/jpeg": "[encoded data removed]",
            "text/plain": [
              "<IPython.core.display.Image object>"
            ]
          },
          "metadata": {},
          "output_type": "display_data"
        }
      ],
      "source": [
        "from IPython.display import Image\n",
        "try:\n",
        "  filename = take_photo()\n",
        "  print('Saved to {}'.format(filename))\n",
        "\n",
        "  # Show the image which was just taken.\n",
        "  display(Image(filename))\n",
        "except Exception as err:\n",
        "  # Errors will be thrown if the user does not have a webcam or if they do not\n",
        "  # grant the page permission to access it.\n",
        "  print(str(err))"
      ]
    },
    {
      "cell_type": "code",
      "execution_count": null,
      "metadata": {
        "colab": {
          "base_uri": "https://localhost:8080/"
        },
        "id": "xh23fWFmDQGK",
        "outputId": "95ce7ddc-2bd9-4a4d-f6df-488265fcfc84"
      },
      "outputs": [
        {
          "name": "stdout",
          "output_type": "stream",
          "text": [
            "cp: cannot stat '/content/kaggle.json': No such file or directory\n"
          ]
        }
      ],
      "source": [
        "!cp /content/kaggle.json ~/.kaggle/kaggle.json\n"
      ]
    },
    {
      "cell_type": "code",
      "execution_count": null,
      "metadata": {
        "id": "-6pK1XKbDY8s"
      },
      "outputs": [],
      "source": [
        "!sudo chown root:root ~/.kaggle\n",
        "!sudo chown root:root ~/.kaggle/kaggle.json"
      ]
    },
    {
      "cell_type": "code",
      "execution_count": null,
      "metadata": {
        "id": "CK0engmXDba8"
      },
      "outputs": [],
      "source": [
        "!sudo chmod 600 ~/.kaggle\n",
        "!sudo chmod 600 ~/.kaggle/kaggle.json"
      ]
    },
    {
      "cell_type": "markdown",
      "metadata": {
        "id": "8d6WFJ5F0PZL"
      },
      "source": [
        "## Upload to Github\n",
        "\n",
        "\n",
        "---\n",
        "\n"
      ]
    },
    {
      "cell_type": "code",
      "execution_count": null,
      "metadata": {
        "id": "BxtDdwFQ4nvF"
      },
      "outputs": [],
      "source": [
        "!git clone https://github.com/SJa-638/test-robot.git"
      ]
    },
    {
      "cell_type": "code",
      "execution_count": null,
      "metadata": {
        "id": "y4E2X9E_3v9W"
      },
      "outputs": [],
      "source": [
        "!git clone https://github.com/SJa-638/test-robot.git"
      ]
    },
    {
      "cell_type": "code",
      "execution_count": null,
      "metadata": {
        "id": "fRRG-5yz46f0"
      },
      "outputs": [],
      "source": [
        "!git config --global user.name \"SJa-638\"\n",
        "!git config --global user.email \"sazab638@gmail.com\"\n",
        "\n",
        "\n",
        "# Navigate to the cloned repository directory\n",
        "%cd '/content/test-robot'\n",
        "\n",
        "# Upload the notebook to the cloned repository\n",
        "!git add .\n",
        "!git commit -m \"Add notebook\"\n",
        "\n",
        "# Push the changes to the remote repository\n",
        "!git push"
      ]
    },
    {
      "cell_type": "markdown",
      "metadata": {
        "id": "ocGnilp6yE6y"
      },
      "source": [
        "# **Draft**\n",
        "\n",
        "\n",
        "---\n",
        "\n",
        "\n"
      ]
    },
    {
      "cell_type": "code",
      "execution_count": null,
      "metadata": {
        "id": "mhjsSDHN3AHd"
      },
      "outputs": [],
      "source": [
        "import kaggle\n",
        "#Set up the Kaggle API\n",
        "api = KaggleApi()\n",
        "api.authenticate()\n",
        "\n",
        "#Path to the downloaded dataset\n",
        "dataset_path = 'D:\\Kaggle dataset archive.zip'  # Path to the extracted dataset files\n",
        "\n",
        "#Download the Kaggle dataset\n",
        "dataset_name = 'lkihjh777'  # Replace with the name of the Kaggle dataset you want to download\n",
        "#api.dataset_download_files(dataset_name, path=dataset_path, unzip=True)\n",
        "\n",
        "#Iterate over the downloaded images\n",
        "for file_name in os.listdir(dataset_path):\n",
        "    image_path = os.path.join(dataset_path, file_name)\n",
        "\n",
        "    # Load the image using OpenCV\n",
        "    image = cv2.imread(image_path)\n",
        "\n",
        "    # Perform image processing operations on the image as needed\n",
        "    # Example: Convert the image to grayscale\n",
        "    gray_image = cv2.cvtColor(image, cv2.COLOR_BGR2GRAY)\n",
        "\n",
        "    # Example: Apply a threshold to create a binary image\n",
        "    _, binary_image = cv2.threshold(gray_image, 127, 255, cv2.THRESH_BINARY)\n",
        "\n",
        "    # Perform further processing or analysis on the image\n",
        "\n",
        "    # Display the processed image\n",
        "    cv2.imshow('Processed Image', binary_image)\n",
        "    cv2.waitKey(0)\n",
        "\n",
        "    # Clean up resources\n",
        "    cv2.destroyAllWindows()"
      ]
    },
    {
      "cell_type": "code",
      "execution_count": null,
      "metadata": {
        "id": "hEA6UWRPndEp"
      },
      "outputs": [],
      "source": [
        "# Capture an image from the webcam\n",
        "#cap = cv2.VideoCapture(0)\n",
        "#ret, frame = cap.read()\n"
      ]
    },
    {
      "cell_type": "code",
      "execution_count": null,
      "metadata": {
        "id": "I3U2I8VSchV7"
      },
      "outputs": [],
      "source": [
        "# Preprocess the image\n",
        "#image = cv2.resize(frame, (224, 224))\n",
        "#image = cv2.cvtColor(image, cv2.COLOR_BGR2RGB)\n",
        "\n",
        "#image = np.expand_dims(image, axis=0)\n",
        "\n",
        "# Classify the image using the trained model\n",
        "prediction = model.predict('photo.jpg')\n",
        "predicted_class = np.argmax(prediction)\n",
        "\n",
        "# Print the predicted class\n",
        "print(\"Predicted class:\", predicted_class)\n",
        "\n",
        "# Release the webcam\n",
        "cap.release()"
      ]
    },
    {
      "cell_type": "code",
      "execution_count": null,
      "metadata": {
        "id": "lFWLoJ1q3Hil"
      },
      "outputs": [],
      "source": [
        "   '''\n",
        "def take_photo():\n",
        "  \"\"\"Takes a photo using the webcam and saves it to a file.\n",
        "\n",
        "  Returns:\n",
        "    The filename of the saved photo.\n",
        "  \"\"\"\n",
        "\n",
        "  cap = cv2.VideoCapture(0)\n",
        "  ret, frame = cap.read()\n",
        "  if ret:\n",
        "    filename = 'photo.jpg'\n",
        "    cv2.imwrite(filename, frame)\n",
        "    return filename\n",
        "  else:\n",
        "    raise Exception('Could not take photo.')\n",
        "try:\n",
        "  filename = take_photo()\n",
        "  print('Saved to {}'.format(filename))\n",
        "\n",
        "  # Show the image which was just taken.\n",
        "  display(Image(filename))\n",
        "except Exception as err:\n",
        "  # Errors will be thrown if the user does not have a webcam or if they do not\n",
        "  # grant the page permission to access it.\n",
        "  print(str(err))\n",
        "  '''"
      ]
    },
    {
      "cell_type": "code",
      "execution_count": null,
      "metadata": {
        "id": "y5qa7zyT3Svc"
      },
      "outputs": [],
      "source": [
        "# Create a virtual webcam using ManyCam.\n",
        "url = 'https://api.manycam.com/v1/webcams'\n",
        "response = requests.post(url, json={'name': 'Virtual Webcam'})\n",
        "webcam_id = response.json()['id']\n",
        "\n",
        "# Capture a frame from the virtual webcam.\n",
        "cap = cv2.VideoCapture(webcam_id)\n",
        "ret, frame = cap.read()\n",
        "\n",
        "# Save the frame to a file.\n",
        "filename = 'photo.jpg'\n",
        "cv2.imwrite(filename, frame)\n",
        "\n",
        "# Display the image.\n",
        "image = cv2.imread(filename)\n",
        "cv2.imshow('Image', image)\n",
        "cv2.waitKey(0)"
      ]
    },
    {
      "cell_type": "code",
      "execution_count": null,
      "metadata": {
        "id": "sArHGlXl3ZsT"
      },
      "outputs": [],
      "source": [
        "# Modify the path to the path of dataset in your own Drive\n",
        "dataset = '/content/drive/MyDrive/dataset/Garbage_classification/Garbage_classification'\n",
        "trainGarabge = '/content/drive/MyDrive/dataset/Garbage_classification/Garbage_classification'\n",
        "valdData = '/content/drive/MyDrive/dataset/Garbage_classification/Garbage_classification'\n",
        "\n",
        "# Navigate to the directory where the dataset is uploaded\n",
        "os.chdir(trainGarabge)\n",
        "os.chdir(valdData)\n",
        "\n",
        "dataset = tf.keras.preprocessing.image_dataset_from_directory(dataset)\n",
        "# Load the dataset into Keras\n",
        "train_dataset = tf.keras.preprocessing.image_dataset_from_directory(\n",
        "    trainGarabge,\n",
        "    seed=123,\n",
        "    validation_split=0.2,\n",
        "    subset=\"training\",\n",
        ")\n",
        "test_dataset = tf.keras.preprocessing.image_dataset_from_directory(\n",
        "    valdData,\n",
        "    validation_split=0.2,\n",
        "    subset=\"validation\",\n",
        "    seed=123,\n",
        ")\n",
        "\n",
        "===================================================================\n",
        "size = (512,512)\n",
        "#TO be Rewritten\n",
        "ds_train = trainGarabge.map(lambda image, label: (tf.image.resize(image, size), label))\n",
        "#ds_train = trainGarabge.map(lambda image, label:(tf.image.resize(image,size),label)\n",
        "ds_vald = valdData.map(lambda image, label:( tf.image.resize(image,size),label ))\n"
      ]
    },
    {
      "cell_type": "code",
      "execution_count": null,
      "metadata": {
        "id": "5_14VWJK3h7h"
      },
      "outputs": [],
      "source": [
        "# Create the model\n",
        "model = tf.keras.Sequential()\n",
        "\n",
        "\n",
        "# Add convolutional layers\n",
        "model.add(tf.keras.layers.Conv2D(32, (3, 3), activation='relu', input_shape=(224, 224, 3)))\n",
        "model.add(tf.keras.layers.MaxPooling2D((2, 2)))\n",
        "model.add(tf.keras.layers.Conv2D(64, (3, 3), activation='relu'))\n",
        "model.add(tf.keras.layers.MaxPooling2D((2, 2)))\n",
        "\n",
        "# Flatten the output of the convolutional layers\n",
        "model.add(tf.keras.layers.Flatten())\n",
        "\n",
        "# Add dense layers\n",
        "model.add(tf.keras.layers.Dense(128, activation='relu'))\n",
        "model.add(tf.keras.layers.Dense(5, activation='softmax'))\n",
        "\n",
        "\n",
        "# Compile the model\n",
        "model.compile(optimizer='adam',loss='sparse_categorical_crossentropy',metrics=['accuracy'])\n",
        "\n"
      ]
    }
  ],
  "metadata": {
    "colab": {
      "toc_visible": true,
      "provenance": [],
      "include_colab_link": true
    },
    "kernelspec": {
      "display_name": "Python 3",
      "name": "python3"
    },
    "language_info": {
      "name": "python"
    }
  },
  "nbformat": 4,
  "nbformat_minor": 0
}